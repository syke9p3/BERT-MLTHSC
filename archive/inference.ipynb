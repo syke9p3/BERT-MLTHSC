{
 "cells": [
  {
   "cell_type": "code",
   "execution_count": 1,
   "metadata": {},
   "outputs": [],
   "source": [
    "import torch\n",
    "from transformers import AutoTokenizer, AutoModelForSequenceClassification"
   ]
  },
  {
   "cell_type": "code",
   "execution_count": 4,
   "metadata": {},
   "outputs": [],
   "source": [
    "model_checkpoint = \"model-trial-1\"\n",
    "trained_model = AutoModelForSequenceClassification.from_pretrained(model_checkpoint)\n",
    "tokenizer = AutoTokenizer.from_pretrained(\"gklmip/bert-tagalog-base-uncased\")\n"
   ]
  },
  {
   "cell_type": "code",
   "execution_count": 13,
   "metadata": {},
   "outputs": [],
   "source": [
    "LABELS = [\"Age\", \"Gender\", \"Physical\", \"Race\", \"Religion\", \"Others\"]\n",
    "id2label = {idx:label for idx, label in enumerate(LABELS)}\n",
    "label2id = {label:idx for idx, label in enumerate(LABELS)}"
   ]
  },
  {
   "cell_type": "code",
   "execution_count": 5,
   "metadata": {},
   "outputs": [],
   "source": [
    "test_sentence = \"ambobo ng mga batang katoliko na bisaya\""
   ]
  },
  {
   "cell_type": "code",
   "execution_count": 21,
   "metadata": {},
   "outputs": [
    {
     "name": "stdout",
     "output_type": "stream",
     "text": [
      "{'Age': '50.16%', 'Gender': '6.47%', 'Physical': '5.72%', 'Race': '29.04%', 'Religion': '89.39%', 'Others': '1.56%'}\n",
      "Input: ambobo ng mga batang katoliko na bisaya\n",
      "Probabilities:  {'Age': '50.16%', 'Gender': '6.47%', 'Physical': '5.72%', 'Race': '29.04%', 'Religion': '89.39%', 'Others': '1.56%'}\n",
      "Labels:\n",
      "(Age, 50.16%)\n",
      "(Religion, 89.39%)\n"
     ]
    }
   ],
   "source": [
    "def preprocess_text(text):\n",
    "    encoding = tokenizer(text, padding=\"max_length\", truncation=True, max_length=128, return_tensors='pt')\n",
    "    return encoding\n",
    "\n",
    "encoded_test_sentence = preprocess_text(test_sentence)\n",
    "\n",
    "with torch.no_grad():\n",
    "    model_outputs = trained_model(**encoded_test_sentence)\n",
    "\n",
    "predictions = model_outputs.logits.sigmoid().tolist()[0]  # Apply sigmoid to get probabilities\n",
    "\n",
    "label_probabilities = {label: f\"{prob * 100:.2f}%\" for label, prob in zip(LABELS, predictions)}\n",
    "print(label_probabilities)\n",
    "\n",
    "threshold = 0.5\n",
    "predicted_labels = [(label, f\"{pred*100:.2f}%\") for label, pred in zip(LABELS, predictions) if pred >= threshold]\n",
    "\n",
    "print(\"Input:\", test_sentence)\n",
    "print(\"Probabilities: \", label_probabilities)\n",
    "\n",
    "print(\"Labels:\")\n",
    "for label, probability in predicted_labels:\n",
    "    print(f\"({label}, {probability})\")\n"
   ]
  },
  {
   "cell_type": "code",
   "execution_count": null,
   "metadata": {},
   "outputs": [],
   "source": []
  },
  {
   "cell_type": "code",
   "execution_count": 10,
   "metadata": {},
   "outputs": [
    {
     "name": "stdout",
     "output_type": "stream",
     "text": [
      "[{'name': 'Religion', 'probability': '89.39%'}, {'name': 'Age', 'probability': '50.16%'}, {'name': 'Race', 'probability': '29.04%'}, {'name': 'Gender', 'probability': '6.47%'}, {'name': 'Physical', 'probability': '5.72%'}, {'name': 'Others', 'probability': '1.56%'}]\n"
     ]
    }
   ],
   "source": [
    "predictions = model_outputs.logits.sigmoid().tolist()[0]  # Apply sigmoid to get probabilities\n",
    " # Get all labels\n",
    "label_probabilities = [{\"name\": label, \"probability\": f\"{prob * 100:.2f}%\"} for label, prob in zip(LABELS, predictions)]\n",
    "\n",
    "# Sort the label probabilities by probability values in descending order\n",
    "label_probabilities = sorted(label_probabilities, key=lambda item: -float(item[\"probability\"][:-1]))\n",
    "print(label_probabilities)"
   ]
  }
 ],
 "metadata": {
  "kernelspec": {
   "display_name": "venv",
   "language": "python",
   "name": "python3"
  },
  "language_info": {
   "codemirror_mode": {
    "name": "ipython",
    "version": 3
   },
   "file_extension": ".py",
   "mimetype": "text/x-python",
   "name": "python",
   "nbconvert_exporter": "python",
   "pygments_lexer": "ipython3",
   "version": "3.11.2"
  }
 },
 "nbformat": 4,
 "nbformat_minor": 2
}

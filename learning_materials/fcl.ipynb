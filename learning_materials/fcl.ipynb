{
 "cells": [
  {
   "cell_type": "code",
   "execution_count": 3,
   "metadata": {},
   "outputs": [],
   "source": [
    "import numpy as np\n",
    "import torch\n",
    "import torch.nn as nn\n",
    "import pandas as pd"
   ]
  },
  {
   "cell_type": "code",
   "execution_count": 11,
   "metadata": {},
   "outputs": [
    {
     "name": "stdout",
     "output_type": "stream",
     "text": [
      "Input:\n",
      "     tensor([[0.2450, 0.4613, 0.4595]])\n",
      "w and b:\n",
      "Parameter containing:\n",
      "tensor([[-0.4793, -0.3357,  0.4047],\n",
      "        [-0.1371,  0.2135, -0.5550]], requires_grad=True)\n",
      "Parameter containing:\n",
      "tensor([0.4234, 0.4845], requires_grad=True)\n",
      "Output:\n",
      "     tensor([[0.3370, 0.2944]], grad_fn=<AddmmBackward0>)\n"
     ]
    }
   ],
   "source": [
    "fcl = nn.Linear(3, 2)\n",
    "x = torch.rand(1, 3)\n",
    "print(\"Input:\")\n",
    "print(\"    \", x)\n",
    "\n",
    "\n",
    "print(\"w and b:\")\n",
    "for param in fcl.parameters():\n",
    "    print(param)\n",
    "\n",
    "y = fcl(x)\n",
    "print(\"Output:\")\n",
    "print(\"    \", y)"
   ]
  },
  {
   "cell_type": "code",
   "execution_count": 12,
   "metadata": {},
   "outputs": [
    {
     "data": {
      "text/plain": [
       "tensor([[0.0645, 0.0329, 0.6339, 0.4603, 0.7248, 0.8665],\n",
       "        [0.3888, 0.9463, 0.4152, 0.2429, 0.1312, 0.7601],\n",
       "        [0.1592, 0.8888, 0.1597, 0.3894, 0.1820, 0.4091],\n",
       "        [0.2805, 0.7917, 0.1167, 0.8201, 0.7276, 0.9725]])"
      ]
     },
     "execution_count": 12,
     "metadata": {},
     "output_type": "execute_result"
    }
   ],
   "source": [
    "torch.rand(100, 6)"
   ]
  },
  {
   "cell_type": "code",
   "execution_count": 4,
   "metadata": {},
   "outputs": [
    {
     "data": {
      "text/plain": [
       "device(type='cuda')"
      ]
     },
     "execution_count": 4,
     "metadata": {},
     "output_type": "execute_result"
    }
   ],
   "source": [
    "device = torch.device(\"cuda\" if torch.cuda.is_available() else \"cpu\")\n",
    "device\n"
   ]
  }
 ],
 "metadata": {
  "kernelspec": {
   "display_name": "venv",
   "language": "python",
   "name": "python3"
  },
  "language_info": {
   "codemirror_mode": {
    "name": "ipython",
    "version": 3
   },
   "file_extension": ".py",
   "mimetype": "text/x-python",
   "name": "python",
   "nbconvert_exporter": "python",
   "pygments_lexer": "ipython3",
   "version": "3.11.2"
  }
 },
 "nbformat": 4,
 "nbformat_minor": 2
}

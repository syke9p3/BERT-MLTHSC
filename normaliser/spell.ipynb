{
 "cells": [
  {
   "cell_type": "code",
   "execution_count": 1,
   "metadata": {},
   "outputs": [],
   "source": [
    "import io\n",
    "import re\n",
    "from collections import Counter"
   ]
  },
  {
   "cell_type": "code",
   "execution_count": 2,
   "metadata": {},
   "outputs": [],
   "source": [
    "def read_file(path):\n",
    "    text = \"\"\n",
    "    with io.open(path, 'r', encoding='ISO-8859-1') as f:\n",
    "        text = f.read()\n",
    "    return text"
   ]
  },
  {
   "cell_type": "code",
   "execution_count": 3,
   "metadata": {},
   "outputs": [],
   "source": [
    "def get_words(plain):\n",
    "    doc_words = []\n",
    "\n",
    "    clean = re.sub('[^a-zA-Z]', ' ', plain.lower())\n",
    "\n",
    "    doc_words = clean.split()\n",
    "    \n",
    "    return doc_words"
   ]
  },
  {
   "cell_type": "code",
   "execution_count": 5,
   "metadata": {},
   "outputs": [
    {
     "data": {
      "text/plain": [
       "210359752"
      ]
     },
     "execution_count": 5,
     "metadata": {},
     "output_type": "execute_result"
    }
   ],
   "source": [
    "path = \"../dataset/bigdata.txt\"\n",
    "plain = read_file(path)\n",
    "len(plain)"
   ]
  },
  {
   "cell_type": "code",
   "execution_count": 6,
   "metadata": {},
   "outputs": [
    {
     "data": {
      "text/plain": [
       "31764066"
      ]
     },
     "execution_count": 6,
     "metadata": {},
     "output_type": "execute_result"
    }
   ],
   "source": [
    "doc_words = get_words(plain)\n",
    "len(doc_words)\n"
   ]
  },
  {
   "cell_type": "code",
   "execution_count": 7,
   "metadata": {},
   "outputs": [
    {
     "data": {
      "text/plain": [
       "36559"
      ]
     },
     "execution_count": 7,
     "metadata": {},
     "output_type": "execute_result"
    }
   ],
   "source": [
    "word_freq = Counter(doc_words)\n",
    "word_freq['the']\n"
   ]
  },
  {
   "cell_type": "code",
   "execution_count": 8,
   "metadata": {},
   "outputs": [],
   "source": [
    "class SpellChecker:\n",
    "    \n",
    "    def __init__(self, word_freq):\n",
    "        self.w_rank = {}\n",
    "        self.letters = 'abcdefghijklmnopqrstuvwxyz'\n",
    "        \n",
    "        N = sum(word_freq.values())\n",
    "        for term in word_freq:\n",
    "            self.w_rank[term] = word_freq[term] / N\n",
    "    \n",
    "    def P(self, word): \n",
    "        return self.w_rank.get(word, 0)\n",
    "\n",
    "    def known(self, words): \n",
    "        return set(w for w in words if w in self.w_rank)\n",
    "\n",
    "    def edits1(self, word):\n",
    "        splits     = [(word[:i], word[i:])    for i in range(len(word) + 1)]\n",
    "        deletes    = [L + R[1:]               for L, R in splits if R]\n",
    "        transposes = [L + R[1] + R[0] + R[2:] for L, R in splits if len(R) > 1]\n",
    "        replaces   = [L + c + R[1:]           for L, R in splits if R for c in self.letters]\n",
    "        inserts    = [L + c + R               for L, R in splits for c in self.letters]\n",
    "        \n",
    "        return set(deletes + transposes + replaces + inserts)\n",
    "\n",
    "    def edits2(self, word): \n",
    "        return (e2 for e1 in self.edits1(word) for e2 in self.edits1(e1))\n",
    "    \n",
    "    def correction(self, word):\n",
    "        return max(self.candidates(word), key = self.P)\n",
    "    \n",
    "    def candidates(self, word): \n",
    "        return (self.known([word]) or self.known(self.edits1(word)) or self.known(self.edits2(word)) or [word])\n"
   ]
  },
  {
   "cell_type": "code",
   "execution_count": 9,
   "metadata": {},
   "outputs": [],
   "source": [
    "spellchecker_model = SpellChecker(word_freq)"
   ]
  },
  {
   "cell_type": "code",
   "execution_count": 18,
   "metadata": {},
   "outputs": [
    {
     "data": {
      "text/plain": [
       "'babaeng'"
      ]
     },
     "execution_count": 18,
     "metadata": {},
     "output_type": "execute_result"
    }
   ],
   "source": [
    "spellchecker_model.correction('bbaeng')"
   ]
  },
  {
   "cell_type": "code",
   "execution_count": 13,
   "metadata": {},
   "outputs": [],
   "source": [
    "# Save model\n",
    "import pickle \n",
    "with open('../model/spellchecker_model.pkl', 'wb') as model_file:\n",
    "    pickle.dump(spellchecker_model, model_file)"
   ]
  },
  {
   "cell_type": "code",
   "execution_count": 14,
   "metadata": {},
   "outputs": [
    {
     "name": "stdout",
     "output_type": "stream",
     "text": [
      "Corrected word: iglesia\n"
     ]
    }
   ],
   "source": [
    "# Load the saved model\n",
    "with open('../model/spellchecker_model.pkl', 'rb') as model_file:\n",
    "    loaded_model = pickle.load(model_file)\n",
    "\n",
    "# Use the loaded model to correct the spelling\n",
    "corrected_word = loaded_model.correction('Eglisia')\n",
    "\n",
    "print(f'Corrected word: {corrected_word}')"
   ]
  }
 ],
 "metadata": {
  "kernelspec": {
   "display_name": "Python 3",
   "language": "python",
   "name": "python3"
  },
  "language_info": {
   "codemirror_mode": {
    "name": "ipython",
    "version": 3
   },
   "file_extension": ".py",
   "mimetype": "text/x-python",
   "name": "python",
   "nbconvert_exporter": "python",
   "pygments_lexer": "ipython3",
   "version": "3.9.13"
  }
 },
 "nbformat": 4,
 "nbformat_minor": 2
}

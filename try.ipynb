{
 "cells": [
  {
   "cell_type": "code",
   "execution_count": 1,
   "metadata": {},
   "outputs": [
    {
     "name": "stdout",
     "output_type": "stream",
     "text": [
      "True Positives (TP): 2\n",
      "False Positives (FP): 1\n",
      "True Negatives (TN): 2\n",
      "False Negatives (FN): 1\n"
     ]
    }
   ],
   "source": [
    "import numpy as np\n",
    "from sklearn.metrics import confusion_matrix\n",
    "\n",
    "# Rows = input text\n",
    "# Columns = labels\n",
    "\n",
    "# Eto ay may apat na sample hate speech post na may 6 labels \n",
    "# ang y_pred ay nakuha pagkatapos mag-apply ng sigmoid sa logits (raw predictions) na may 0.5 threshold\n",
    "\n",
    "y_pred = np.array([\n",
    "    [0, 1, 1, 0, 0, 1],\n",
    "    [1, 1, 0, 0, 0, 1],\n",
    "    [0, 0, 0, 1, 0, 1],\n",
    "    [0, 0, 1, 0, 1, 0]\n",
    "])\n",
    "\n",
    "y_true = np.array([\n",
    "    [0, 1, 0, 1, 0, 1],\n",
    "    [1, 1, 0, 0, 1, 0],\n",
    "    [0, 0, 1, 1, 0, 1],\n",
    "    [1, 0, 1, 0, 1, 0]\n",
    "])\n",
    "\n",
    "# Confusion matrix per row\n",
    "\n",
    "from sklearn.metrics import confusion_matrix\n",
    "\n",
    "def calculate_confusion_matrix(y_true_row, y_pred_row):\n",
    "\n",
    "    # Etong cm ay nagrereturn ng array na may 2 rows and 2 columns na nagrerepresent ng TP, FP, TN, FN\n",
    "    cm = confusion_matrix(y_true_row, y_pred_row)\n",
    "\n",
    "    TP = cm[1, 1]  # True Positives -  bottom right\n",
    "    FP = cm[0, 1]  # False Positives -  bottom left\n",
    "    TN = cm[0, 0]  # True Negatives -  top right\n",
    "    FN = cm[1, 0]  # False Negatives -  top left\n",
    "    return TP, FP, TN, FN\n",
    "\n",
    "# Example usage:\n",
    "y_true_row = np.array([0, 1, 0, 1, 0, 1])\n",
    "y_pred_row = np.array([0, 1, 1, 0, 0, 1])\n",
    "\n",
    "TP, FP, TN, FN = calculate_confusion_matrix(y_true_row, y_pred_row)\n",
    "print(f\"True Positives (TP): {TP}\")\n",
    "print(f\"False Positives (FP): {FP}\")\n",
    "print(f\"True Negatives (TN): {TN}\")\n",
    "print(f\"False Negatives (FN): {FN}\")"
   ]
  },
  {
   "cell_type": "markdown",
   "metadata": {},
   "source": []
  },
  {
   "cell_type": "code",
   "execution_count": null,
   "metadata": {},
   "outputs": [],
   "source": [
    "# Rows = input text\n",
    "# Columns = labels\n",
    "# Eto ay may sampung sample hate speech post na may 6 labels \n",
    "# ang y_pred ay nakuha pagkatapos mag-apply ng sigmoid sa logits (raw predictions) na may 0.5 threshold\n",
    "\n",
    "y_pred = np.array([\n",
    "    [0, 1, 1, 0, 1, 0],\n",
    "    [1, 0, 0, 1, 0, 1],\n",
    "    [0, 1, 0, 1, 1, 0],\n",
    "    [1, 1, 1, 0, 1, 0],\n",
    "    [0, 0, 0, 1, 0, 1],\n",
    "    [1, 0, 0, 1, 0, 1],\n",
    "    [0, 1, 1, 0, 1, 0],\n",
    "    [1, 1, 0, 0, 0, 1],\n",
    "    [0, 0, 1, 1, 0, 0],\n",
    "    [1, 1, 1, 1, 0, 0]\n",
    "])\n",
    "\n",
    "# Next step ay gamitin pandas para kunin ang y_true np.array mula sa eval_data frame\n",
    "y_true = np.array([\n",
    "    [1, 1, 0, 1, 0, 0],\n",
    "    [0, 0, 1, 1, 0, 0],\n",
    "    [1, 1, 1, 0, 0, 1],\n",
    "    [0, 0, 0, 1, 1, 0],\n",
    "    [0, 0, 1, 0, 1, 1],\n",
    "    [1, 1, 0, 0, 0, 1],\n",
    "    [0, 1, 1, 1, 0, 0],\n",
    "    [0, 1, 1, 0, 1, 0],\n",
    "    [1, 0, 1, 1, 1, 0],\n",
    "    [0, 1, 0, 0, 1, 1]\n",
    "])"
   ]
  },
  {
   "cell_type": "code",
   "execution_count": null,
   "metadata": {},
   "outputs": [],
   "source": []
  },
  {
   "cell_type": "code",
   "execution_count": null,
   "metadata": {},
   "outputs": [],
   "source": [
    "import numpy as np\n",
    "from sklearn.metrics import multilabel_confusion_matrix\n",
    "import matplotlib.pyplot as plt\n",
    "import pandas as pd\n",
    "\n",
    "test_path = './dataset/test-try2.csv'\n",
    "test_df = pd.read_csv(test_path)\n",
    "labels = ['Age', 'Gender', 'Physical', 'Race', 'Religion', 'Others']\n",
    "\n",
    "N_LABELS = 6\n",
    "N_EVAL_ROWS = test_df.shape[0]\n",
    "\n",
    "predictions = np.random.uniform(-38, 38, (N_EVAL_ROWS, N_LABELS))\n",
    "print(predictions.shape)\n",
    "\n",
    "\n",
    "y_true = test_df[labels].to_numpy()\n",
    "print(y_true.shape)\n",
    "\n",
    "confusion_matrix = multilabel_confusion_matrix(y_true, y_pred)\n",
    "\n",
    "print(confusion_matrix)\n",
    "\n",
    "def plot_confusion_matrix(cm, labels, num_rows, num_columns):\n",
    "    fig, axes = plt.subplots(num_rows, num_columns, figsize=(15, 10))\n",
    "\n",
    "    for i, ax in enumerate(axes.flatten()):\n",
    "        ax.matshow(cm[i], cmap='Blues')\n",
    "        ax.set_xticks([0, 1])\n",
    "        ax.set_yticks([0, 1])\n",
    "        ax.set_xticklabels(['0', '1'])\n",
    "        ax.set_yticklabels(['0', '1'])\n",
    "        ax.set_xlabel('Predicted')\n",
    "        ax.set_ylabel('True')\n",
    "        ax.set_title(labels[i])\n",
    "\n",
    "        for x in range(2):\n",
    "            for y in range(2):\n",
    "                ax.text(x, y, str(cm[i][y, x]), va='center', ha='center', color='black', fontsize=16)\n",
    "\n",
    "    plt.tight_layout()\n",
    "    plt.show()\n",
    "\n",
    "plot_confusion_matrix(confusion_matrix, labels, num_rows=2, num_columns=3)\n"
   ]
  },
  {
   "cell_type": "markdown",
   "metadata": {},
   "source": [
    "Para makuha ang metrics, kailangan ko ng confusion_matrix,\n",
    "\n",
    "Para makuha ang cm, kailangan ng y_true at y_preds"
   ]
  },
  {
   "cell_type": "code",
   "execution_count": 367,
   "metadata": {},
   "outputs": [
    {
     "name": "stdout",
     "output_type": "stream",
     "text": [
      "3.0317460317460316\n"
     ]
    }
   ],
   "source": [
    "import torch\n",
    "import numpy as np\n",
    "from transformers import EvalPrediction\n"
   ]
  },
  {
   "cell_type": "code",
   "execution_count": 380,
   "metadata": {},
   "outputs": [],
   "source": [
    "\n",
    "import numpy as np\n",
    "from sklearn.metrics import multilabel_confusion_matrix\n",
    "\n",
    "def multilabel_metrics(predictions, labels, threshold=0.5):\n",
    "    sigmoid = torch.nn.Sigmoid()\n",
    "    probabilities = sigmoid(torch.Tensor(predictions))\n",
    "\n",
    "    y_pred = np.zeros(probabilities.shape)\n",
    "    y_pred[np.where(probabilities >= threshold)] = 1\n",
    "    y_true = labels\n",
    "\n",
    "    confusion_matrix = multilabel_confusion_matrix(y_true, y_pred)\n",
    "    label_metrics = {}\n",
    "    \n",
    "    classes = ['Age', 'Gender', 'Physical', 'Race', 'Religion', 'Others']\n",
    "\n",
    "    for i in range(confusion_matrix.shape[0]):\n",
    "        TP = confusion_matrix[i, 1, 1]  # True Positives\n",
    "        FP = confusion_matrix[i, 0, 1]  # False Positives\n",
    "        FN = confusion_matrix[i, 1, 0]  # False Negatives\n",
    "        TN = confusion_matrix[i, 0, 0]  # True Negatives\n",
    "\n",
    "        precision = TP / (TP + FP) if TP + FP > 0 else 0\n",
    "        recall = TP / (TP + FN) if TP + FN > 0 else 0\n",
    "        f1_score = (2 * precision * recall) / (precision + recall) if precision + recall > 0 else 0\n",
    "\n",
    "        label_name = classes[i]\n",
    "\n",
    "        label_metrics[label_name] = {\n",
    "            \"Precision\": f\"{precision * 100:.2f}%\",\n",
    "            \"Recall\": f\"{recall * 100:.2f}%\",\n",
    "            \"F1-Score\": f\"{f1_score * 100:.2f}%\"\n",
    "        }\n",
    "\n",
    "    # Calculate Hamming Loss\n",
    "    xor_result = np.logical_xor(y_true, y_pred)\n",
    "    xor_sum = np.sum(xor_result)\n",
    "    hamming_loss = xor_sum / (y_true.shape[0] * y_true.shape[1])\n",
    "    \n",
    "    label_metrics['Hamming Loss'] = f\"{hamming_loss:.4f}\"\n",
    "\n",
    "    return label_metrics\n",
    "\n",
    "def compute_metrics(p: EvalPrediction):\n",
    "    preds = p.predictions[0] if isinstance(p.predictions, tuple) else p.predictions\n",
    "    result = multilabel_metrics(predictions=preds, labels=p.label_ids, threshold=0.5)\n",
    "    return result"
   ]
  },
  {
   "cell_type": "code",
   "execution_count": 381,
   "metadata": {},
   "outputs": [
    {
     "data": {
      "text/plain": [
       "{'Age': {'Precision': '18.15%', 'Recall': '47.90%', 'F1-Score': '26.33%'},\n",
       " 'Gender': {'Precision': '18.12%', 'Recall': '46.03%', 'F1-Score': '26.01%'},\n",
       " 'Physical': {'Precision': '24.32%', 'Recall': '44.65%', 'F1-Score': '31.49%'},\n",
       " 'Race': {'Precision': '22.15%', 'Recall': '54.55%', 'F1-Score': '31.51%'},\n",
       " 'Religion': {'Precision': '20.39%', 'Recall': '49.21%', 'F1-Score': '28.84%'},\n",
       " 'Others': {'Precision': '14.75%', 'Recall': '53.19%', 'F1-Score': '23.09%'},\n",
       " 'Hamming Loss': '0.5053'}"
      ]
     },
     "execution_count": 381,
     "metadata": {},
     "output_type": "execute_result"
    }
   ],
   "source": [
    "compute_metrics(p)"
   ]
  },
  {
   "cell_type": "code",
   "execution_count": 288,
   "metadata": {},
   "outputs": [
    {
     "name": "stdout",
     "output_type": "stream",
     "text": [
      "[[[1 1]\n",
      "  [3 1]]\n",
      "\n",
      " [[0 2]\n",
      "  [1 3]]\n",
      "\n",
      " [[1 2]\n",
      "  [3 0]]\n",
      "\n",
      " [[0 2]\n",
      "  [2 2]]\n",
      "\n",
      " [[1 4]\n",
      "  [0 1]]\n",
      "\n",
      " [[3 1]\n",
      "  [2 0]]]\n"
     ]
    }
   ],
   "source": [
    "import numpy as np\n",
    "from sklearn.metrics import multilabel_confusion_matrix\n",
    "\n",
    "\n",
    "y_pred = np.array([\n",
    "    [0, 1, 1, 0, 1, 0],\n",
    "    [1, 0, 0, 1, 0, 1],\n",
    "    [0, 1, 0, 1, 1, 0],\n",
    "    [0, 1, 0, 1, 1, 0],\n",
    "    [0, 1, 0, 1, 1, 0],\n",
    "    [1, 1, 1, 0, 1, 0],\n",
    "])\n",
    "\n",
    "\n",
    "\n",
    "# Next step ay gamitin pandas para kunin ang y_true np.array mula sa eval_data frame\n",
    "y_true = np.array([\n",
    "    [1, 1, 0, 1, 0, 0],\n",
    "    [1, 1, 0, 1, 0, 0],\n",
    "    [0, 0, 1, 1, 0, 0],\n",
    "    [1, 1, 1, 0, 0, 1],\n",
    "    [1, 1, 1, 0, 0, 1],\n",
    "    [0, 0, 0, 1, 1, 0],\n",
    "])\n",
    "\n",
    "confusion_matrix = multilabel_confusion_matrix(y_true, y_pred)\n",
    "print(confusion_matrix)\n"
   ]
  },
  {
   "cell_type": "markdown",
   "metadata": {},
   "source": [
    "Must return\n",
    "\n",
    "\n",
    "- Metrics: PRF, Hamming Loss\n",
    "\n",
    "\n",
    "def multilabel_metrics(predictions, true_labels, threshold: int =0.5):\n",
    "\n",
    "    return metrics\n"
   ]
  },
  {
   "cell_type": "code",
   "execution_count": 113,
   "metadata": {},
   "outputs": [
    {
     "name": "stdout",
     "output_type": "stream",
     "text": [
      "[[1 1 0 1 0 0]\n",
      " [1 1 0 1 0 0]\n",
      " [1 1 0 1 0 0]\n",
      " [0 0 1 1 0 0]\n",
      " [0 0 1 1 0 0]\n",
      " [1 1 1 0 0 1]\n",
      " [1 1 1 0 0 1]\n",
      " [1 1 1 0 0 1]\n",
      " [0 0 0 1 1 0]\n",
      " [0 0 0 1 1 0]]\n",
      "(10, 6)\n"
     ]
    }
   ],
   "source": [
    "y_true = np.array([\n",
    "    [1, 1, 0, 1, 0, 0],\n",
    "    [1, 1, 0, 1, 0, 0],\n",
    "    [1, 1, 0, 1, 0, 0],\n",
    "    [0, 0, 1, 1, 0, 0],\n",
    "    [0, 0, 1, 1, 0, 0],\n",
    "    [1, 1, 1, 0, 0, 1],\n",
    "    [1, 1, 1, 0, 0, 1],\n",
    "    [1, 1, 1, 0, 0, 1],\n",
    "    [0, 0, 0, 1, 1, 0],\n",
    "    [0, 0, 0, 1, 1, 0],\n",
    "])\n",
    "\n",
    "\n",
    "print(y_true)\n",
    "print(y_true.shape)"
   ]
  },
  {
   "cell_type": "code",
   "execution_count": null,
   "metadata": {},
   "outputs": [],
   "source": []
  },
  {
   "cell_type": "code",
   "execution_count": 302,
   "metadata": {},
   "outputs": [
    {
     "name": "stdout",
     "output_type": "stream",
     "text": [
      "Predicitions\n",
      "[[ 36.76394377 -11.2780596  -17.00344448 -23.60995822  -1.44778854\n",
      "   36.20338883]\n",
      " [  4.55718364 -31.36686499   4.64309762  -6.17864791   8.15427192\n",
      "  -16.25556935]\n",
      " [-29.94575541 -23.49364925  24.61389717  -8.30342686 -30.20718853\n",
      "  -22.90818999]\n",
      " ...\n",
      " [-16.14549    -37.49444253 -36.7562983  -11.97062121 -12.3325491\n",
      "    7.20520112]\n",
      " [ 21.89433817  13.06478369 -10.75057288  22.53426531  28.21542574\n",
      "   28.6772388 ]\n",
      " [-24.25228387 -21.92554951 -36.08316946 -33.54989715 -12.32342464\n",
      "  -31.87441034]]\n",
      "(630, 6)\n"
     ]
    }
   ],
   "source": [
    "num_samples = N_EVAL_ROWS\n",
    "num_labels = N_LABELS\n",
    "\n",
    "predictions = np.random.uniform(-38, 38, (num_samples, num_labels))\n",
    "\n",
    "print(\"Predicitions\")\n",
    "print(predictions)\n",
    "print(predictions.shape)"
   ]
  },
  {
   "cell_type": "code",
   "execution_count": 319,
   "metadata": {},
   "outputs": [
    {
     "name": "stdout",
     "output_type": "stream",
     "text": [
      "preds\n",
      "[[ 36.76394377 -11.2780596  -17.00344448 -23.60995822  -1.44778854\n",
      "   36.20338883]\n",
      " [  4.55718364 -31.36686499   4.64309762  -6.17864791   8.15427192\n",
      "  -16.25556935]\n",
      " [-29.94575541 -23.49364925  24.61389717  -8.30342686 -30.20718853\n",
      "  -22.90818999]\n",
      " ...\n",
      " [-16.14549    -37.49444253 -36.7562983  -11.97062121 -12.3325491\n",
      "    7.20520112]\n",
      " [ 21.89433817  13.06478369 -10.75057288  22.53426531  28.21542574\n",
      "   28.6772388 ]\n",
      " [-24.25228387 -21.92554951 -36.08316946 -33.54989715 -12.32342464\n",
      "  -31.87441034]]\n"
     ]
    }
   ],
   "source": [
    "from transformers import EvalPrediction\n",
    "p = EvalPrediction(predictions, label_ids=y_true)\n",
    "\n",
    "preds = p.predictions[0] if isinstance(p.predictions, tuple) else p.predictions\n",
    "\n",
    "print(\"preds\")\n",
    "print(preds)\n",
    "\n"
   ]
  },
  {
   "cell_type": "code",
   "execution_count": 329,
   "metadata": {},
   "outputs": [
    {
     "ename": "TypeError",
     "evalue": "unhashable type: 'list'",
     "output_type": "error",
     "traceback": [
      "\u001b[1;31m---------------------------------------------------------------------------\u001b[0m",
      "\u001b[1;31mTypeError\u001b[0m                                 Traceback (most recent call last)",
      "\u001b[1;32md:\\Repo\\Python\\BERT MLTHSC\\try.ipynb Cell 14\u001b[0m line \u001b[0;36m1\n\u001b[1;32m----> <a href='vscode-notebook-cell:/d%3A/Repo/Python/BERT%20MLTHSC/try.ipynb#X33sZmlsZQ%3D%3D?line=0'>1</a>\u001b[0m compute_metrics(p)\n",
      "\u001b[1;32md:\\Repo\\Python\\BERT MLTHSC\\try.ipynb Cell 14\u001b[0m line \u001b[0;36m5\n\u001b[0;32m     <a href='vscode-notebook-cell:/d%3A/Repo/Python/BERT%20MLTHSC/try.ipynb#X33sZmlsZQ%3D%3D?line=56'>57</a>\u001b[0m \u001b[39mdef\u001b[39;00m \u001b[39mcompute_metrics\u001b[39m(p: EvalPrediction):\n\u001b[0;32m     <a href='vscode-notebook-cell:/d%3A/Repo/Python/BERT%20MLTHSC/try.ipynb#X33sZmlsZQ%3D%3D?line=57'>58</a>\u001b[0m     preds \u001b[39m=\u001b[39m p\u001b[39m.\u001b[39mpredictions[\u001b[39m0\u001b[39m] \u001b[39mif\u001b[39;00m \u001b[39misinstance\u001b[39m(p\u001b[39m.\u001b[39mpredictions, \u001b[39mtuple\u001b[39m) \u001b[39melse\u001b[39;00m p\u001b[39m.\u001b[39mpredictions\n\u001b[1;32m---> <a href='vscode-notebook-cell:/d%3A/Repo/Python/BERT%20MLTHSC/try.ipynb#X33sZmlsZQ%3D%3D?line=58'>59</a>\u001b[0m     result \u001b[39m=\u001b[39m multilabel_metrics(predictions\u001b[39m=\u001b[39;49mpreds, labels\u001b[39m=\u001b[39;49mp\u001b[39m.\u001b[39;49mlabel_ids, threshold\u001b[39m=\u001b[39;49m\u001b[39m0.5\u001b[39;49m)\n\u001b[0;32m     <a href='vscode-notebook-cell:/d%3A/Repo/Python/BERT%20MLTHSC/try.ipynb#X33sZmlsZQ%3D%3D?line=59'>60</a>\u001b[0m     \u001b[39mreturn\u001b[39;00m result\n",
      "\u001b[1;32md:\\Repo\\Python\\BERT MLTHSC\\try.ipynb Cell 14\u001b[0m line \u001b[0;36m4\n\u001b[0;32m     <a href='vscode-notebook-cell:/d%3A/Repo/Python/BERT%20MLTHSC/try.ipynb#X33sZmlsZQ%3D%3D?line=41'>42</a>\u001b[0m     recall \u001b[39m=\u001b[39m TP \u001b[39m/\u001b[39m (TP \u001b[39m+\u001b[39m FN) \u001b[39mif\u001b[39;00m TP \u001b[39m+\u001b[39m FN \u001b[39m>\u001b[39m \u001b[39m0\u001b[39m \u001b[39melse\u001b[39;00m \u001b[39m0\u001b[39m\n\u001b[0;32m     <a href='vscode-notebook-cell:/d%3A/Repo/Python/BERT%20MLTHSC/try.ipynb#X33sZmlsZQ%3D%3D?line=42'>43</a>\u001b[0m     f1_score \u001b[39m=\u001b[39m (\u001b[39m2\u001b[39m \u001b[39m*\u001b[39m precision \u001b[39m*\u001b[39m recall) \u001b[39m/\u001b[39m (precision \u001b[39m+\u001b[39m recall) \u001b[39mif\u001b[39;00m precision \u001b[39m+\u001b[39m recall \u001b[39m>\u001b[39m \u001b[39m0\u001b[39m \u001b[39melse\u001b[39;00m \u001b[39m0\u001b[39m\n\u001b[1;32m---> <a href='vscode-notebook-cell:/d%3A/Repo/Python/BERT%20MLTHSC/try.ipynb#X33sZmlsZQ%3D%3D?line=44'>45</a>\u001b[0m     label_metrics[labels[i]] \u001b[39m=\u001b[39m {\n\u001b[0;32m     <a href='vscode-notebook-cell:/d%3A/Repo/Python/BERT%20MLTHSC/try.ipynb#X33sZmlsZQ%3D%3D?line=45'>46</a>\u001b[0m         \u001b[39m\"\u001b[39m\u001b[39mPrecision\u001b[39m\u001b[39m\"\u001b[39m: \u001b[39mf\u001b[39m\u001b[39m\"\u001b[39m\u001b[39m{\u001b[39;00mprecision\u001b[39m \u001b[39m\u001b[39m*\u001b[39m\u001b[39m \u001b[39m\u001b[39m100\u001b[39m\u001b[39m:\u001b[39;00m\u001b[39m.2f\u001b[39m\u001b[39m}\u001b[39;00m\u001b[39m%\u001b[39m\u001b[39m\"\u001b[39m,\n\u001b[0;32m     <a href='vscode-notebook-cell:/d%3A/Repo/Python/BERT%20MLTHSC/try.ipynb#X33sZmlsZQ%3D%3D?line=46'>47</a>\u001b[0m         \u001b[39m\"\u001b[39m\u001b[39mRecall\u001b[39m\u001b[39m\"\u001b[39m: \u001b[39mf\u001b[39m\u001b[39m\"\u001b[39m\u001b[39m{\u001b[39;00mrecall\u001b[39m \u001b[39m\u001b[39m*\u001b[39m\u001b[39m \u001b[39m\u001b[39m100\u001b[39m\u001b[39m:\u001b[39;00m\u001b[39m.2f\u001b[39m\u001b[39m}\u001b[39;00m\u001b[39m%\u001b[39m\u001b[39m\"\u001b[39m,\n\u001b[0;32m     <a href='vscode-notebook-cell:/d%3A/Repo/Python/BERT%20MLTHSC/try.ipynb#X33sZmlsZQ%3D%3D?line=47'>48</a>\u001b[0m         \u001b[39m\"\u001b[39m\u001b[39mF1-Score\u001b[39m\u001b[39m\"\u001b[39m: \u001b[39mf\u001b[39m\u001b[39m\"\u001b[39m\u001b[39m{\u001b[39;00mf1_score\u001b[39m \u001b[39m\u001b[39m*\u001b[39m\u001b[39m \u001b[39m\u001b[39m100\u001b[39m\u001b[39m:\u001b[39;00m\u001b[39m.2f\u001b[39m\u001b[39m}\u001b[39;00m\u001b[39m%\u001b[39m\u001b[39m\"\u001b[39m\n\u001b[0;32m     <a href='vscode-notebook-cell:/d%3A/Repo/Python/BERT%20MLTHSC/try.ipynb#X33sZmlsZQ%3D%3D?line=48'>49</a>\u001b[0m     }\n\u001b[0;32m     <a href='vscode-notebook-cell:/d%3A/Repo/Python/BERT%20MLTHSC/try.ipynb#X33sZmlsZQ%3D%3D?line=50'>51</a>\u001b[0m hamming_loss \u001b[39m=\u001b[39m calculate_hamming_loss(confusion_matrix)\n\u001b[0;32m     <a href='vscode-notebook-cell:/d%3A/Repo/Python/BERT%20MLTHSC/try.ipynb#X33sZmlsZQ%3D%3D?line=51'>52</a>\u001b[0m label_metrics[\u001b[39m'\u001b[39m\u001b[39mHamming Loss\u001b[39m\u001b[39m'\u001b[39m] \u001b[39m=\u001b[39m \u001b[39mf\u001b[39m\u001b[39m\"\u001b[39m\u001b[39m{\u001b[39;00mhamming_loss\u001b[39m \u001b[39m\u001b[39m*\u001b[39m\u001b[39m \u001b[39m\u001b[39m100\u001b[39m\u001b[39m:\u001b[39;00m\u001b[39m.2f\u001b[39m\u001b[39m}\u001b[39;00m\u001b[39m%\u001b[39m\u001b[39m\"\u001b[39m\n",
      "\u001b[1;31mTypeError\u001b[0m: unhashable type: 'list'"
     ]
    }
   ],
   "source": [
    "compute_metrics(p)"
   ]
  },
  {
   "cell_type": "code",
   "execution_count": 304,
   "metadata": {},
   "outputs": [
    {
     "name": "stdout",
     "output_type": "stream",
     "text": [
      "Probabilities: \n",
      "tensor([[1.0000e+00, 1.2647e-05, 4.1257e-08, 5.5760e-11, 1.9034e-01, 1.0000e+00],\n",
      "        [9.8962e-01, 2.3853e-14, 9.9046e-01, 2.0689e-03, 9.9971e-01, 8.7156e-08],\n",
      "        [9.8792e-14, 6.2638e-11, 1.0000e+00, 2.4761e-04, 7.6065e-14, 1.1249e-10],\n",
      "        ...,\n",
      "        [9.7298e-08, 5.2044e-17, 1.0888e-16, 6.3274e-06, 4.4060e-06, 9.9926e-01],\n",
      "        [1.0000e+00, 1.0000e+00, 2.1433e-05, 1.0000e+00, 1.0000e+00, 1.0000e+00],\n",
      "        [2.9334e-11, 3.0051e-10, 2.1344e-16, 2.6882e-15, 4.4463e-06, 1.4359e-14]])\n",
      "Predictions: \n",
      "[[1. 0. 0. 0. 0. 1.]\n",
      " [1. 0. 1. 0. 1. 0.]\n",
      " [0. 0. 1. 0. 0. 0.]\n",
      " ...\n",
      " [0. 0. 0. 0. 0. 1.]\n",
      " [1. 1. 0. 1. 1. 1.]\n",
      " [0. 0. 0. 0. 0. 0.]]\n"
     ]
    }
   ],
   "source": [
    "import torch\n",
    "\n",
    "threshold = 0.5\n",
    "\n",
    "sigmoid = torch.nn.Sigmoid()\n",
    "probabilities = sigmoid(torch.Tensor(preds))\n",
    "print(\"Probabilities: \")\n",
    "print(probabilities)\n",
    "\n",
    "y_pred = np.zeros(probabilities.shape)\n",
    "y_pred[np.where(probabilities >= threshold)] = 1\n",
    "\n",
    "print(\"Predictions: \")\n",
    "print(y_pred)\n",
    "\n"
   ]
  },
  {
   "cell_type": "code",
   "execution_count": 305,
   "metadata": {},
   "outputs": [
    {
     "data": {
      "image/png": "[encoded data removed]",
      "text/plain": [
       "<Figure size 1500x1000 with 6 Axes>"
      ]
     },
     "metadata": {},
     "output_type": "display_data"
    }
   ],
   "source": [
    "confusion_matrix = multilabel_confusion_matrix(y_true, y_pred)\n",
    "plot_confusion_matrix(confusion_matrix, labels, num_rows=2, num_columns=3)"
   ]
  },
  {
   "cell_type": "code",
   "execution_count": 310,
   "metadata": {},
   "outputs": [
    {
     "data": {
      "text/plain": [
       "{'Age': {'Precision': '18.15%', 'Recall': '47.90%', 'F1-Score': '26.33%'},\n",
       " 'Gender': {'Precision': '18.12%', 'Recall': '46.03%', 'F1-Score': '26.01%'},\n",
       " 'Physical': {'Precision': '24.32%', 'Recall': '44.65%', 'F1-Score': '31.49%'},\n",
       " 'Race': {'Precision': '22.15%', 'Recall': '54.55%', 'F1-Score': '31.51%'},\n",
       " 'Religion': {'Precision': '20.39%', 'Recall': '49.21%', 'F1-Score': '28.84%'},\n",
       " 'Others': {'Precision': '14.75%', 'Recall': '53.19%', 'F1-Score': '23.09%'},\n",
       " 'Hamming Loss': '25.00%'}"
      ]
     },
     "execution_count": 310,
     "metadata": {},
     "output_type": "execute_result"
    }
   ],
   "source": [
    "multilabel_metrics(confusion_matrix, labels=labels)"
   ]
  },
  {
   "cell_type": "code",
   "execution_count": null,
   "metadata": {},
   "outputs": [],
   "source": [
    "{\n",
    "    input_ids: [101, 203293, 26732, ... , 102, 0 , ... 0],\n",
    "    attention_mask: [1, 1, 1, 1, ..., 1 ... , 0, 0, 0, ...],\n",
    "    labels: [1., 0., 1., 0., 0., 0.]\n",
    "}"
   ]
  }
 ],
 "metadata": {
  "kernelspec": {
   "display_name": "venv",
   "language": "python",
   "name": "python3"
  },
  "language_info": {
   "codemirror_mode": {
    "name": "ipython",
    "version": 3
   },
   "file_extension": ".py",
   "mimetype": "text/x-python",
   "name": "python",
   "nbconvert_exporter": "python",
   "pygments_lexer": "ipython3",
   "version": "3.11.2"
  }
 },
 "nbformat": 4,
 "nbformat_minor": 2
}
